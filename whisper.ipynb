{
  "nbformat": 4,
  "nbformat_minor": 0,
  "metadata": {
    "colab": {
      "provenance": []
    },
    "kernelspec": {
      "name": "python3",
      "display_name": "Python 3"
    },
    "language_info": {
      "name": "python"
    }
  },
  "cells": [
    {
      "cell_type": "code",
      "source": [
        "!pip install -U openai-whisper\n",
        "!sudo apt install ffmpeg\n",
        "!pip install fpdf\n",
        "!pip install setuptools-rust"
      ],
      "metadata": {
        "id": "7gKpcgwO6V_V"
      },
      "execution_count": null,
      "outputs": []
    },
    {
      "cell_type": "code",
      "source": [
        "import whisper\n",
        "model = whisper.load_model(\"base\")\n",
        "result = model.transcribe(\"test.mp3\")\n",
        "print(result[\"text\"])"
      ],
      "metadata": {
        "id": "jXK0NfLO6yjX"
      },
      "execution_count": null,
      "outputs": []
    },
    {
      "cell_type": "code",
      "source": [
        "def convert_seconds_to_minutes(seconds):\n",
        "    minutes = seconds // 60\n",
        "    seconds_remainder = seconds % 60\n",
        "    return minutes + seconds_remainder / 60  # Calculate accurate minutes with decimals"
      ],
      "metadata": {
        "id": "8s_RBwU7CgnG"
      },
      "execution_count": 41,
      "outputs": []
    },
    {
      "cell_type": "code",
      "source": [
        "for a in range(len(result[\"segments\"])):\n",
        "  x=result['segments'][a]\n",
        "  # Convert start and end times to minutes with decimals\n",
        "  minutes_start = convert_seconds_to_minutes(x['start'])\n",
        "  minutes_end = convert_seconds_to_minutes(x['end'])\n",
        "  print(f\"{minutes_start:.2f}:{minutes_end:.2f} {x['text']}\")"
      ],
      "metadata": {
        "id": "o8C4fxBU_JsN"
      },
      "execution_count": null,
      "outputs": []
    },
    {
      "cell_type": "code",
      "source": [
        "\n",
        "# Create an empty string to store the output\n",
        "output_text = \"\"\n",
        "\n",
        "for a in range(len(result[\"segments\"])):\n",
        "    x = result[\"segments\"][a]\n",
        "\n",
        "    # Convert times and format output as before\n",
        "    minutes_start = convert_seconds_to_minutes(x[\"start\"])\n",
        "    minutes_end = convert_seconds_to_minutes(x[\"end\"])\n",
        "    output_string = f\"{minutes_start:.2f}:{minutes_end:.2f} {x['text']}\\n\"  # Add newline for spacing\n",
        "\n",
        "    # Append to the output string\n",
        "    output_text += output_string\n",
        "\n",
        "# Estimate the number of pages needed based on string length and assumed character count per page\n",
        "estimated_chars_per_page = 500  # Adjust as needed\n",
        "estimated_pages = len(output_text) // estimated_chars_per_page + 1  # Round up\n"
      ],
      "metadata": {
        "id": "ComTZPakBNj-"
      },
      "execution_count": 64,
      "outputs": []
    },
    {
      "cell_type": "code",
      "source": [
        "from fpdf import FPDF\n",
        "\n",
        "class MyPDF(FPDF):\n",
        "    def __init__(self):\n",
        "        super().__init__()\n",
        "        self.current_page = 1\n",
        "        self.current_line = 0\n",
        "        self.lines_per_page = 40  # Adjust as needed\n",
        "        self.alias_nb_pages()  # Add this line\n",
        "    def footer(self):\n",
        "            # Position cursor at 1.5 cm from bottom:\n",
        "            self.set_y(-15)\n",
        "            # Setting font: helvetica italic 8\n",
        "            self.set_font(\"helvetica\", \"I\", 8)\n",
        "            # Printing page number:\n",
        "            self.cell(0, 10, f\"Page {self.page_no()}/{{nb}}\", align=\"C\")\n",
        "    def add_content(self, output_text):\n",
        "        lines = output_text.splitlines()\n",
        "        self.add_page()\n",
        "        self.set_font(\"Arial\", size=12)\n",
        "\n",
        "        for line in lines:\n",
        "            self.cell(200, 10, txt=line, ln=1)\n",
        "            self.current_line += 1\n",
        "\n",
        "            if self.get_y() > 260:  # Adjust as needed\n",
        "                self.current_page += 1\n",
        "                self.current_line = 0\n",
        "                self.add_page()\n",
        "\n",
        "# Example usage:\n",
        "# output_text = \"Your text content here...\"\n",
        "pdf = MyPDF()\n",
        "pdf.add_content(output_text)\n",
        "pdf.output(\"output_document.pdf\")\n"
      ],
      "metadata": {
        "colab": {
          "base_uri": "https://localhost:8080/",
          "height": 35
        },
        "id": "8ctZaXigN77M",
        "outputId": "d5a9dec3-218b-4167-cd90-e459e70ead23"
      },
      "execution_count": 98,
      "outputs": [
        {
          "output_type": "execute_result",
          "data": {
            "text/plain": [
              "''"
            ],
            "application/vnd.google.colaboratory.intrinsic+json": {
              "type": "string"
            }
          },
          "metadata": {},
          "execution_count": 98
        }
      ]
    },
    {
      "cell_type": "code",
      "source": [],
      "metadata": {
        "id": "Df1jnXaZOhn8"
      },
      "execution_count": null,
      "outputs": []
    }
  ]
}